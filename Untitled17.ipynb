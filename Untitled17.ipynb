{
 "cells": [
  {
   "cell_type": "code",
   "execution_count": 18,
   "id": "43027f67-38df-430e-a473-063517a96833",
   "metadata": {},
   "outputs": [],
   "source": [
    "import pandas as pd"
   ]
  },
  {
   "cell_type": "code",
   "execution_count": 19,
   "id": "4c5c9dc4-1283-478e-8a15-b88aeca0804f",
   "metadata": {},
   "outputs": [],
   "source": [
    "df=pd.read_csv(r\"C:\\Users\\omsin\\OneDrive\\Documents\\mta-customer-feedback-data-beginning_project-2014-1.csv\")"
   ]
  },
  {
   "cell_type": "markdown",
   "id": "da36c3cb-6dfb-42cf-916d-919ce717083a",
   "metadata": {},
   "source": [
    "# REPLACE MISSING VALUES IN ISSUE DETAIL WITH UNSPECIFIED"
   ]
  },
  {
   "cell_type": "code",
   "execution_count": 20,
   "id": "75b099ae-edab-4194-9f08-05b8d9f5fbc7",
   "metadata": {},
   "outputs": [],
   "source": [
    "df.fillna({'Issue Detail':'unspecified'},inplace=True)"
   ]
  },
  {
   "cell_type": "code",
   "execution_count": 21,
   "id": "a74b3822-c1fb-497c-b822-ac9b5a068ebd",
   "metadata": {},
   "outputs": [
    {
     "data": {
      "text/html": [
       "<div>\n",
       "<style scoped>\n",
       "    .dataframe tbody tr th:only-of-type {\n",
       "        vertical-align: middle;\n",
       "    }\n",
       "\n",
       "    .dataframe tbody tr th {\n",
       "        vertical-align: top;\n",
       "    }\n",
       "\n",
       "    .dataframe thead th {\n",
       "        text-align: right;\n",
       "    }\n",
       "</style>\n",
       "<table border=\"1\" class=\"dataframe\">\n",
       "  <thead>\n",
       "    <tr style=\"text-align: right;\">\n",
       "      <th></th>\n",
       "      <th>Agency</th>\n",
       "      <th>Commendation or Complaint</th>\n",
       "      <th>Subject Matter</th>\n",
       "      <th>Subject Detail</th>\n",
       "      <th>Issue Detail</th>\n",
       "      <th>Year</th>\n",
       "      <th>Quarter</th>\n",
       "      <th>Branch/Line/Route</th>\n",
       "    </tr>\n",
       "  </thead>\n",
       "  <tbody>\n",
       "    <tr>\n",
       "      <th>0</th>\n",
       "      <td>Long Island Rail Road</td>\n",
       "      <td>Commendation</td>\n",
       "      <td>Employees</td>\n",
       "      <td>CSR - Ambassador</td>\n",
       "      <td>Very Helpful/Friendly</td>\n",
       "      <td>2015</td>\n",
       "      <td>2</td>\n",
       "      <td>No Value</td>\n",
       "    </tr>\n",
       "    <tr>\n",
       "      <th>1</th>\n",
       "      <td>Long Island Rail Road</td>\n",
       "      <td>Commendation</td>\n",
       "      <td>Employees</td>\n",
       "      <td>CSR - Ambassador</td>\n",
       "      <td>Very Helpful/Friendly</td>\n",
       "      <td>2015</td>\n",
       "      <td>2</td>\n",
       "      <td>Port Jefferson</td>\n",
       "    </tr>\n",
       "    <tr>\n",
       "      <th>2</th>\n",
       "      <td>Long Island Rail Road</td>\n",
       "      <td>Commendation</td>\n",
       "      <td>Employees</td>\n",
       "      <td>CSR - Customer Service Office</td>\n",
       "      <td>unspecified</td>\n",
       "      <td>2015</td>\n",
       "      <td>1</td>\n",
       "      <td>No Value</td>\n",
       "    </tr>\n",
       "    <tr>\n",
       "      <th>3</th>\n",
       "      <td>Long Island Rail Road</td>\n",
       "      <td>Commendation</td>\n",
       "      <td>Employees</td>\n",
       "      <td>CSR - Customer Service Office</td>\n",
       "      <td>Other</td>\n",
       "      <td>2015</td>\n",
       "      <td>2</td>\n",
       "      <td>Far Rockaway</td>\n",
       "    </tr>\n",
       "    <tr>\n",
       "      <th>4</th>\n",
       "      <td>Long Island Rail Road</td>\n",
       "      <td>Commendation</td>\n",
       "      <td>Employees</td>\n",
       "      <td>CSR - Customer Service Office</td>\n",
       "      <td>Very Helpful / Friendly</td>\n",
       "      <td>2015</td>\n",
       "      <td>2</td>\n",
       "      <td>No Value</td>\n",
       "    </tr>\n",
       "    <tr>\n",
       "      <th>...</th>\n",
       "      <td>...</td>\n",
       "      <td>...</td>\n",
       "      <td>...</td>\n",
       "      <td>...</td>\n",
       "      <td>...</td>\n",
       "      <td>...</td>\n",
       "      <td>...</td>\n",
       "      <td>...</td>\n",
       "    </tr>\n",
       "    <tr>\n",
       "      <th>183882</th>\n",
       "      <td>Subways</td>\n",
       "      <td>Complaint</td>\n",
       "      <td>Travel Disruption / Trip Problem</td>\n",
       "      <td>Website</td>\n",
       "      <td>No Announcement / Messages - Visual/Text</td>\n",
       "      <td>2017</td>\n",
       "      <td>4</td>\n",
       "      <td>C</td>\n",
       "    </tr>\n",
       "    <tr>\n",
       "      <th>183883</th>\n",
       "      <td>Subways</td>\n",
       "      <td>Complaint</td>\n",
       "      <td>Travel Disruption / Trip Problem</td>\n",
       "      <td>Website</td>\n",
       "      <td>No Announcement / Messages - Visual/Text</td>\n",
       "      <td>2017</td>\n",
       "      <td>4</td>\n",
       "      <td>No Value</td>\n",
       "    </tr>\n",
       "    <tr>\n",
       "      <th>183884</th>\n",
       "      <td>Subways</td>\n",
       "      <td>Complaint</td>\n",
       "      <td>Travel Disruption / Trip Problem</td>\n",
       "      <td>Website</td>\n",
       "      <td>No Announcement / Messages - Visual/Text</td>\n",
       "      <td>2017</td>\n",
       "      <td>4</td>\n",
       "      <td>N</td>\n",
       "    </tr>\n",
       "    <tr>\n",
       "      <th>183885</th>\n",
       "      <td>Subways</td>\n",
       "      <td>Complaint</td>\n",
       "      <td>Travel Disruption / Trip Problem</td>\n",
       "      <td>Website</td>\n",
       "      <td>Timeliness - Visual / Text</td>\n",
       "      <td>2017</td>\n",
       "      <td>4</td>\n",
       "      <td>7</td>\n",
       "    </tr>\n",
       "    <tr>\n",
       "      <th>183886</th>\n",
       "      <td>Subways</td>\n",
       "      <td>Complaint</td>\n",
       "      <td>Travel Disruption / Trip Problem</td>\n",
       "      <td>Website</td>\n",
       "      <td>Timeliness - Visual / Text</td>\n",
       "      <td>2017</td>\n",
       "      <td>4</td>\n",
       "      <td>No Value</td>\n",
       "    </tr>\n",
       "  </tbody>\n",
       "</table>\n",
       "<p>183887 rows × 8 columns</p>\n",
       "</div>"
      ],
      "text/plain": [
       "                       Agency Commendation or Complaint  \\\n",
       "0       Long Island Rail Road              Commendation   \n",
       "1       Long Island Rail Road              Commendation   \n",
       "2       Long Island Rail Road              Commendation   \n",
       "3       Long Island Rail Road              Commendation   \n",
       "4       Long Island Rail Road              Commendation   \n",
       "...                       ...                       ...   \n",
       "183882                Subways                 Complaint   \n",
       "183883                Subways                 Complaint   \n",
       "183884                Subways                 Complaint   \n",
       "183885                Subways                 Complaint   \n",
       "183886                Subways                 Complaint   \n",
       "\n",
       "                          Subject Matter                 Subject Detail  \\\n",
       "0                              Employees               CSR - Ambassador   \n",
       "1                              Employees               CSR - Ambassador   \n",
       "2                              Employees  CSR - Customer Service Office   \n",
       "3                              Employees  CSR - Customer Service Office   \n",
       "4                              Employees  CSR - Customer Service Office   \n",
       "...                                  ...                            ...   \n",
       "183882  Travel Disruption / Trip Problem                        Website   \n",
       "183883  Travel Disruption / Trip Problem                        Website   \n",
       "183884  Travel Disruption / Trip Problem                        Website   \n",
       "183885  Travel Disruption / Trip Problem                        Website   \n",
       "183886  Travel Disruption / Trip Problem                        Website   \n",
       "\n",
       "                                    Issue Detail  Year  Quarter  \\\n",
       "0                          Very Helpful/Friendly  2015        2   \n",
       "1                          Very Helpful/Friendly  2015        2   \n",
       "2                                    unspecified  2015        1   \n",
       "3                                          Other  2015        2   \n",
       "4                        Very Helpful / Friendly  2015        2   \n",
       "...                                          ...   ...      ...   \n",
       "183882  No Announcement / Messages - Visual/Text  2017        4   \n",
       "183883  No Announcement / Messages - Visual/Text  2017        4   \n",
       "183884  No Announcement / Messages - Visual/Text  2017        4   \n",
       "183885                Timeliness - Visual / Text  2017        4   \n",
       "183886                Timeliness - Visual / Text  2017        4   \n",
       "\n",
       "       Branch/Line/Route  \n",
       "0               No Value  \n",
       "1         Port Jefferson  \n",
       "2               No Value  \n",
       "3           Far Rockaway  \n",
       "4               No Value  \n",
       "...                  ...  \n",
       "183882                 C  \n",
       "183883          No Value  \n",
       "183884                 N  \n",
       "183885                 7  \n",
       "183886          No Value  \n",
       "\n",
       "[183887 rows x 8 columns]"
      ]
     },
     "execution_count": 21,
     "metadata": {},
     "output_type": "execute_result"
    }
   ],
   "source": [
    "df"
   ]
  },
  {
   "cell_type": "code",
   "execution_count": 22,
   "id": "15d4b193-befa-46e3-ae7e-34ba32e19885",
   "metadata": {},
   "outputs": [
    {
     "data": {
      "text/plain": [
       "np.int64(10134)"
      ]
     },
     "execution_count": 22,
     "metadata": {},
     "output_type": "execute_result"
    }
   ],
   "source": [
    "df['Issue Detail'].value_counts().get('unspecified',0)"
   ]
  },
  {
   "cell_type": "markdown",
   "id": "103f1667-3bac-4269-b760-d593e4631592",
   "metadata": {},
   "source": [
    "# DROP DUPLICATES"
   ]
  },
  {
   "cell_type": "code",
   "execution_count": 23,
   "id": "1fd4cfef-4553-4318-b232-a5022cd2d660",
   "metadata": {},
   "outputs": [],
   "source": [
    "df=df.drop_duplicates()"
   ]
  },
  {
   "cell_type": "code",
   "execution_count": 24,
   "id": "a9b4ce51-adc7-4fed-92fe-9f18805583f5",
   "metadata": {
    "scrolled": true
   },
   "outputs": [
    {
     "data": {
      "text/html": [
       "<div>\n",
       "<style scoped>\n",
       "    .dataframe tbody tr th:only-of-type {\n",
       "        vertical-align: middle;\n",
       "    }\n",
       "\n",
       "    .dataframe tbody tr th {\n",
       "        vertical-align: top;\n",
       "    }\n",
       "\n",
       "    .dataframe thead th {\n",
       "        text-align: right;\n",
       "    }\n",
       "</style>\n",
       "<table border=\"1\" class=\"dataframe\">\n",
       "  <thead>\n",
       "    <tr style=\"text-align: right;\">\n",
       "      <th></th>\n",
       "      <th>Agency</th>\n",
       "      <th>Commendation or Complaint</th>\n",
       "      <th>Subject Matter</th>\n",
       "      <th>Subject Detail</th>\n",
       "      <th>Issue Detail</th>\n",
       "      <th>Year</th>\n",
       "      <th>Quarter</th>\n",
       "      <th>Branch/Line/Route</th>\n",
       "    </tr>\n",
       "  </thead>\n",
       "  <tbody>\n",
       "    <tr>\n",
       "      <th>0</th>\n",
       "      <td>Long Island Rail Road</td>\n",
       "      <td>Commendation</td>\n",
       "      <td>Employees</td>\n",
       "      <td>CSR - Ambassador</td>\n",
       "      <td>Very Helpful/Friendly</td>\n",
       "      <td>2015</td>\n",
       "      <td>2</td>\n",
       "      <td>No Value</td>\n",
       "    </tr>\n",
       "    <tr>\n",
       "      <th>1</th>\n",
       "      <td>Long Island Rail Road</td>\n",
       "      <td>Commendation</td>\n",
       "      <td>Employees</td>\n",
       "      <td>CSR - Ambassador</td>\n",
       "      <td>Very Helpful/Friendly</td>\n",
       "      <td>2015</td>\n",
       "      <td>2</td>\n",
       "      <td>Port Jefferson</td>\n",
       "    </tr>\n",
       "    <tr>\n",
       "      <th>2</th>\n",
       "      <td>Long Island Rail Road</td>\n",
       "      <td>Commendation</td>\n",
       "      <td>Employees</td>\n",
       "      <td>CSR - Customer Service Office</td>\n",
       "      <td>unspecified</td>\n",
       "      <td>2015</td>\n",
       "      <td>1</td>\n",
       "      <td>No Value</td>\n",
       "    </tr>\n",
       "    <tr>\n",
       "      <th>3</th>\n",
       "      <td>Long Island Rail Road</td>\n",
       "      <td>Commendation</td>\n",
       "      <td>Employees</td>\n",
       "      <td>CSR - Customer Service Office</td>\n",
       "      <td>Other</td>\n",
       "      <td>2015</td>\n",
       "      <td>2</td>\n",
       "      <td>Far Rockaway</td>\n",
       "    </tr>\n",
       "    <tr>\n",
       "      <th>4</th>\n",
       "      <td>Long Island Rail Road</td>\n",
       "      <td>Commendation</td>\n",
       "      <td>Employees</td>\n",
       "      <td>CSR - Customer Service Office</td>\n",
       "      <td>Very Helpful / Friendly</td>\n",
       "      <td>2015</td>\n",
       "      <td>2</td>\n",
       "      <td>No Value</td>\n",
       "    </tr>\n",
       "    <tr>\n",
       "      <th>...</th>\n",
       "      <td>...</td>\n",
       "      <td>...</td>\n",
       "      <td>...</td>\n",
       "      <td>...</td>\n",
       "      <td>...</td>\n",
       "      <td>...</td>\n",
       "      <td>...</td>\n",
       "      <td>...</td>\n",
       "    </tr>\n",
       "    <tr>\n",
       "      <th>183878</th>\n",
       "      <td>Subways</td>\n",
       "      <td>Complaint</td>\n",
       "      <td>Travel Disruption / Trip Problem</td>\n",
       "      <td>Website</td>\n",
       "      <td>No Announcement / Messages - Visual/Text</td>\n",
       "      <td>2017</td>\n",
       "      <td>4</td>\n",
       "      <td>No Value</td>\n",
       "    </tr>\n",
       "    <tr>\n",
       "      <th>183880</th>\n",
       "      <td>Subways</td>\n",
       "      <td>Complaint</td>\n",
       "      <td>Travel Disruption / Trip Problem</td>\n",
       "      <td>Website</td>\n",
       "      <td>No Announcement / Messages - Visual/Text</td>\n",
       "      <td>2017</td>\n",
       "      <td>4</td>\n",
       "      <td>F</td>\n",
       "    </tr>\n",
       "    <tr>\n",
       "      <th>183882</th>\n",
       "      <td>Subways</td>\n",
       "      <td>Complaint</td>\n",
       "      <td>Travel Disruption / Trip Problem</td>\n",
       "      <td>Website</td>\n",
       "      <td>No Announcement / Messages - Visual/Text</td>\n",
       "      <td>2017</td>\n",
       "      <td>4</td>\n",
       "      <td>C</td>\n",
       "    </tr>\n",
       "    <tr>\n",
       "      <th>183885</th>\n",
       "      <td>Subways</td>\n",
       "      <td>Complaint</td>\n",
       "      <td>Travel Disruption / Trip Problem</td>\n",
       "      <td>Website</td>\n",
       "      <td>Timeliness - Visual / Text</td>\n",
       "      <td>2017</td>\n",
       "      <td>4</td>\n",
       "      <td>7</td>\n",
       "    </tr>\n",
       "    <tr>\n",
       "      <th>183886</th>\n",
       "      <td>Subways</td>\n",
       "      <td>Complaint</td>\n",
       "      <td>Travel Disruption / Trip Problem</td>\n",
       "      <td>Website</td>\n",
       "      <td>Timeliness - Visual / Text</td>\n",
       "      <td>2017</td>\n",
       "      <td>4</td>\n",
       "      <td>No Value</td>\n",
       "    </tr>\n",
       "  </tbody>\n",
       "</table>\n",
       "<p>86215 rows × 8 columns</p>\n",
       "</div>"
      ],
      "text/plain": [
       "                       Agency Commendation or Complaint  \\\n",
       "0       Long Island Rail Road              Commendation   \n",
       "1       Long Island Rail Road              Commendation   \n",
       "2       Long Island Rail Road              Commendation   \n",
       "3       Long Island Rail Road              Commendation   \n",
       "4       Long Island Rail Road              Commendation   \n",
       "...                       ...                       ...   \n",
       "183878                Subways                 Complaint   \n",
       "183880                Subways                 Complaint   \n",
       "183882                Subways                 Complaint   \n",
       "183885                Subways                 Complaint   \n",
       "183886                Subways                 Complaint   \n",
       "\n",
       "                          Subject Matter                 Subject Detail  \\\n",
       "0                              Employees               CSR - Ambassador   \n",
       "1                              Employees               CSR - Ambassador   \n",
       "2                              Employees  CSR - Customer Service Office   \n",
       "3                              Employees  CSR - Customer Service Office   \n",
       "4                              Employees  CSR - Customer Service Office   \n",
       "...                                  ...                            ...   \n",
       "183878  Travel Disruption / Trip Problem                        Website   \n",
       "183880  Travel Disruption / Trip Problem                        Website   \n",
       "183882  Travel Disruption / Trip Problem                        Website   \n",
       "183885  Travel Disruption / Trip Problem                        Website   \n",
       "183886  Travel Disruption / Trip Problem                        Website   \n",
       "\n",
       "                                    Issue Detail  Year  Quarter  \\\n",
       "0                          Very Helpful/Friendly  2015        2   \n",
       "1                          Very Helpful/Friendly  2015        2   \n",
       "2                                    unspecified  2015        1   \n",
       "3                                          Other  2015        2   \n",
       "4                        Very Helpful / Friendly  2015        2   \n",
       "...                                          ...   ...      ...   \n",
       "183878  No Announcement / Messages - Visual/Text  2017        4   \n",
       "183880  No Announcement / Messages - Visual/Text  2017        4   \n",
       "183882  No Announcement / Messages - Visual/Text  2017        4   \n",
       "183885                Timeliness - Visual / Text  2017        4   \n",
       "183886                Timeliness - Visual / Text  2017        4   \n",
       "\n",
       "       Branch/Line/Route  \n",
       "0               No Value  \n",
       "1         Port Jefferson  \n",
       "2               No Value  \n",
       "3           Far Rockaway  \n",
       "4               No Value  \n",
       "...                  ...  \n",
       "183878          No Value  \n",
       "183880                 F  \n",
       "183882                 C  \n",
       "183885                 7  \n",
       "183886          No Value  \n",
       "\n",
       "[86215 rows x 8 columns]"
      ]
     },
     "execution_count": 24,
     "metadata": {},
     "output_type": "execute_result"
    }
   ],
   "source": [
    "df"
   ]
  },
  {
   "cell_type": "markdown",
   "id": "d8b5232d-aecc-4888-92a6-24f89dbde8fa",
   "metadata": {},
   "source": [
    "# 1.COUNT OF RETAINED CUSTOMER(COMMENDATION)"
   ]
  },
  {
   "cell_type": "code",
   "execution_count": 25,
   "id": "858c3332-cd48-42a1-b58d-e1284fd32898",
   "metadata": {},
   "outputs": [],
   "source": [
    "retained_customr_count=df[df['Commendation or Complaint']=='Commendation'].shape[0]"
   ]
  },
  {
   "cell_type": "code",
   "execution_count": 26,
   "id": "2416bb3a-c423-4467-a13f-775424f59344",
   "metadata": {},
   "outputs": [
    {
     "name": "stdout",
     "output_type": "stream",
     "text": [
      "Retained_Customer_Count:3984\n"
     ]
    }
   ],
   "source": [
    "print(f\"Retained_Customer_Count:{retained_customr_count}\")"
   ]
  },
  {
   "cell_type": "markdown",
   "id": "c84094dd-d6bf-4efa-9bc9-66468aab45eb",
   "metadata": {},
   "source": [
    "# 2.CHURN RATE OF CUSTOMER"
   ]
  },
  {
   "cell_type": "code",
   "execution_count": 27,
   "id": "683a1b58-4230-4848-b473-9901300f4930",
   "metadata": {},
   "outputs": [],
   "source": [
    "churned_customer_count=df[df['Commendation or Complaint']=='Complaint'].shape[0]"
   ]
  },
  {
   "cell_type": "code",
   "execution_count": 28,
   "id": "987df796-d41b-42ba-8571-5e77e326f64c",
   "metadata": {},
   "outputs": [],
   "source": [
    "total_customer=df.shape[0]"
   ]
  },
  {
   "cell_type": "code",
   "execution_count": 29,
   "id": "bd71dc80-4651-416b-81f9-5355646e1bcb",
   "metadata": {},
   "outputs": [],
   "source": [
    "churn_rate=round((churned_customer_count / total_customer)*100,2)"
   ]
  },
  {
   "cell_type": "code",
   "execution_count": 30,
   "id": "e202011f-9cb9-41af-bcb4-04ef0b95f360",
   "metadata": {},
   "outputs": [
    {
     "name": "stdout",
     "output_type": "stream",
     "text": [
      "CHURN RATE : 95.38%\n"
     ]
    }
   ],
   "source": [
    "print(f'CHURN RATE : {churn_rate}%')"
   ]
  },
  {
   "cell_type": "code",
   "execution_count": 31,
   "id": "73ac73ef-9b90-4efc-99a1-2b02935d6d9b",
   "metadata": {},
   "outputs": [
    {
     "ename": "NameError",
     "evalue": "name 'data_cleaned' is not defined",
     "output_type": "error",
     "traceback": [
      "\u001b[1;31m---------------------------------------------------------------------------\u001b[0m",
      "\u001b[1;31mNameError\u001b[0m                                 Traceback (most recent call last)",
      "Cell \u001b[1;32mIn[31], line 2\u001b[0m\n\u001b[0;32m      1\u001b[0m \u001b[38;5;66;03m# 7. Common Issue Details (Complaint)\u001b[39;00m\n\u001b[1;32m----> 2\u001b[0m issue_detail_complaints \u001b[38;5;241m=\u001b[39m \u001b[43mdata_cleaned\u001b[49m[data_cleaned[\u001b[38;5;124m'\u001b[39m\u001b[38;5;124mCommendation or Complaint\u001b[39m\u001b[38;5;124m'\u001b[39m] \u001b[38;5;241m==\u001b[39m \u001b[38;5;124m'\u001b[39m\u001b[38;5;124mComplaint\u001b[39m\u001b[38;5;124m'\u001b[39m]\u001b[38;5;241m.\u001b[39mgroupby(\u001b[38;5;124m'\u001b[39m\u001b[38;5;124mIssue Detail\u001b[39m\u001b[38;5;124m'\u001b[39m)\u001b[38;5;241m.\u001b[39msize()\u001b[38;5;241m.\u001b[39mreset_index(name\u001b[38;5;241m=\u001b[39m\u001b[38;5;124m'\u001b[39m\u001b[38;5;124mCount_of_Customers\u001b[39m\u001b[38;5;124m'\u001b[39m)\u001b[38;5;241m.\u001b[39msort_values(by\u001b[38;5;241m=\u001b[39m\u001b[38;5;124m'\u001b[39m\u001b[38;5;124mCount_of_Customers\u001b[39m\u001b[38;5;124m'\u001b[39m, ascending\u001b[38;5;241m=\u001b[39m\u001b[38;5;28;01mFalse\u001b[39;00m)\n\u001b[0;32m      3\u001b[0m \u001b[38;5;28mprint\u001b[39m(\u001b[38;5;124m\"\u001b[39m\u001b[38;5;130;01m\\n\u001b[39;00m\u001b[38;5;124mMost Common Issue Details:\u001b[39m\u001b[38;5;124m\"\u001b[39m)\n\u001b[0;32m      4\u001b[0m \u001b[38;5;28mprint\u001b[39m(issue_detail_complaints\u001b[38;5;241m.\u001b[39mhead())\n",
      "\u001b[1;31mNameError\u001b[0m: name 'data_cleaned' is not defined"
     ]
    }
   ],
   "source": [
    "# 7. Common Issue Details (Complaint)\n",
    "issue_detail_complaints = data_cleaned[data_cleaned['Commendation or Complaint'] == 'Complaint'].groupby('Issue Detail').size().reset_index(name='Count_of_Customers').sort_values(by='Count_of_Customers', ascending=False)\n",
    "print(\"\\nMost Common Issue Details:\")\n",
    "print(issue_detail_complaints.head())\n",
    "\n",
    "# 8. Year-wise Trend of Customers\n",
    "year_trend = data_cleaned.groupby('Year').size().reset_index(name='Count_of_Customers').sort_values(by='Year', ascending=False)\n",
    "print(\"\\nYear-wise Trend of Customers:\")\n",
    "print(year_trend)\n",
    "\n",
    "# 9. Quarter-wise Trend of Churned Customers (Complaint)\n",
    "quarter_trend_complaints = data_cleaned[data_cleaned['Commendation or Complaint'] == 'Complaint'].groupby('Quarter').size().reset_index(name='Count_of_Customers').sort_values(by='Count_of_Customers', ascending=False)\n",
    "print(\"\\nQuarter-wise Trend of Churned Customers:\")\n",
    "print(quarter_trend_complaints)"
   ]
  },
  {
   "cell_type": "markdown",
   "id": "21c3360e-2e0f-4eef-b39c-b9402e83132f",
   "metadata": {},
   "source": [
    "# 3.COUNT OF CHURNED CUSTOMERS(COMPLAINT)"
   ]
  },
  {
   "cell_type": "code",
   "execution_count": 32,
   "id": "30c42ec5-3bb2-498f-a996-fe9eef7f6c0f",
   "metadata": {},
   "outputs": [
    {
     "name": "stdout",
     "output_type": "stream",
     "text": [
      "CHURNED CUSTOMER COUNT:82231\n"
     ]
    }
   ],
   "source": [
    "print(f'CHURNED CUSTOMER COUNT:{churned_customer_count}')"
   ]
  },
  {
   "cell_type": "markdown",
   "id": "1b1f4e73-e090-48f0-9367-3befb81006b4",
   "metadata": {},
   "source": [
    "# 4.AGENCY WITH MOST COMPLAINTS"
   ]
  },
  {
   "cell_type": "code",
   "execution_count": 33,
   "id": "ff8bb130-1224-441a-a6cc-8ac4e27e66cc",
   "metadata": {},
   "outputs": [],
   "source": [
    "agency_complaints=df[df['Commendation or Complaint']=='Complaint'].groupby('Agency').size().reset_index(name='agency count').sort_values(by='agency count',ascending=False)"
   ]
  },
  {
   "cell_type": "code",
   "execution_count": 34,
   "id": "3e4c13e7-779c-4992-83d7-da12a16f4650",
   "metadata": {},
   "outputs": [
    {
     "data": {
      "text/html": [
       "<div>\n",
       "<style scoped>\n",
       "    .dataframe tbody tr th:only-of-type {\n",
       "        vertical-align: middle;\n",
       "    }\n",
       "\n",
       "    .dataframe tbody tr th {\n",
       "        vertical-align: top;\n",
       "    }\n",
       "\n",
       "    .dataframe thead th {\n",
       "        text-align: right;\n",
       "    }\n",
       "</style>\n",
       "<table border=\"1\" class=\"dataframe\">\n",
       "  <thead>\n",
       "    <tr style=\"text-align: right;\">\n",
       "      <th></th>\n",
       "      <th>Agency</th>\n",
       "      <th>agency count</th>\n",
       "    </tr>\n",
       "  </thead>\n",
       "  <tbody>\n",
       "    <tr>\n",
       "      <th>2</th>\n",
       "      <td>NYC Buses</td>\n",
       "      <td>47781</td>\n",
       "    </tr>\n",
       "    <tr>\n",
       "      <th>3</th>\n",
       "      <td>Subways</td>\n",
       "      <td>21401</td>\n",
       "    </tr>\n",
       "    <tr>\n",
       "      <th>0</th>\n",
       "      <td>Long Island Rail Road</td>\n",
       "      <td>8231</td>\n",
       "    </tr>\n",
       "    <tr>\n",
       "      <th>1</th>\n",
       "      <td>Metro-North Railroad</td>\n",
       "      <td>4818</td>\n",
       "    </tr>\n",
       "  </tbody>\n",
       "</table>\n",
       "</div>"
      ],
      "text/plain": [
       "                  Agency  agency count\n",
       "2              NYC Buses         47781\n",
       "3                Subways         21401\n",
       "0  Long Island Rail Road          8231\n",
       "1   Metro-North Railroad          4818"
      ]
     },
     "execution_count": 34,
     "metadata": {},
     "output_type": "execute_result"
    }
   ],
   "source": [
    "agency_complaints"
   ]
  },
  {
   "cell_type": "markdown",
   "id": "c5129118-5820-4fee-a0f0-171d4a2d5682",
   "metadata": {},
   "source": [
    "# 5. COMMON SUBJECT MATTERS(COMPLAINT)\n"
   ]
  },
  {
   "cell_type": "code",
   "execution_count": 35,
   "id": "f9fc90ec-50ad-4723-b88b-56a21b3809db",
   "metadata": {},
   "outputs": [],
   "source": [
    "subject_matter_complaints=df[df['Commendation or Complaint']=='Complaint'].groupby('Subject Matter').size().reset_index(name='count of customer').sort_values(by='count of customer',ascending=False)"
   ]
  },
  {
   "cell_type": "code",
   "execution_count": 36,
   "id": "39d59bb3-88c8-4bc9-a986-25b5d7cd1820",
   "metadata": {},
   "outputs": [
    {
     "data": {
      "text/html": [
       "<div>\n",
       "<style scoped>\n",
       "    .dataframe tbody tr th:only-of-type {\n",
       "        vertical-align: middle;\n",
       "    }\n",
       "\n",
       "    .dataframe tbody tr th {\n",
       "        vertical-align: top;\n",
       "    }\n",
       "\n",
       "    .dataframe thead th {\n",
       "        text-align: right;\n",
       "    }\n",
       "</style>\n",
       "<table border=\"1\" class=\"dataframe\">\n",
       "  <thead>\n",
       "    <tr style=\"text-align: right;\">\n",
       "      <th></th>\n",
       "      <th>Subject Matter</th>\n",
       "      <th>count of customer</th>\n",
       "    </tr>\n",
       "  </thead>\n",
       "  <tbody>\n",
       "    <tr>\n",
       "      <th>4</th>\n",
       "      <td>Employees</td>\n",
       "      <td>34314</td>\n",
       "    </tr>\n",
       "    <tr>\n",
       "      <th>12</th>\n",
       "      <td>Station /Bus Stop /Facility /Structure</td>\n",
       "      <td>15876</td>\n",
       "    </tr>\n",
       "    <tr>\n",
       "      <th>15</th>\n",
       "      <td>Travel Disruption / Trip Problem</td>\n",
       "      <td>12704</td>\n",
       "    </tr>\n",
       "    <tr>\n",
       "      <th>0</th>\n",
       "      <td>Buses</td>\n",
       "      <td>5795</td>\n",
       "    </tr>\n",
       "    <tr>\n",
       "      <th>14</th>\n",
       "      <td>Trains</td>\n",
       "      <td>5613</td>\n",
       "    </tr>\n",
       "    <tr>\n",
       "      <th>13</th>\n",
       "      <td>Telephone / Website / Mobile Apps</td>\n",
       "      <td>2258</td>\n",
       "    </tr>\n",
       "    <tr>\n",
       "      <th>8</th>\n",
       "      <td>Policies, Rules &amp; Regulations</td>\n",
       "      <td>2111</td>\n",
       "    </tr>\n",
       "    <tr>\n",
       "      <th>11</th>\n",
       "      <td>Schedules / Reservations</td>\n",
       "      <td>1376</td>\n",
       "    </tr>\n",
       "    <tr>\n",
       "      <th>7</th>\n",
       "      <td>MetroCard/Tickets/E-Zpass &amp; Tolls</td>\n",
       "      <td>1346</td>\n",
       "    </tr>\n",
       "    <tr>\n",
       "      <th>3</th>\n",
       "      <td>Customer</td>\n",
       "      <td>668</td>\n",
       "    </tr>\n",
       "    <tr>\n",
       "      <th>6</th>\n",
       "      <td>MTA Agency Cars / Trucks</td>\n",
       "      <td>101</td>\n",
       "    </tr>\n",
       "    <tr>\n",
       "      <th>2</th>\n",
       "      <td>Construction / Capital Projects</td>\n",
       "      <td>35</td>\n",
       "    </tr>\n",
       "    <tr>\n",
       "      <th>9</th>\n",
       "      <td>Public Hearing</td>\n",
       "      <td>17</td>\n",
       "    </tr>\n",
       "    <tr>\n",
       "      <th>10</th>\n",
       "      <td>Reasonable Modification</td>\n",
       "      <td>9</td>\n",
       "    </tr>\n",
       "    <tr>\n",
       "      <th>5</th>\n",
       "      <td>Ferry Service - Hudson River</td>\n",
       "      <td>7</td>\n",
       "    </tr>\n",
       "    <tr>\n",
       "      <th>1</th>\n",
       "      <td>Complaint</td>\n",
       "      <td>1</td>\n",
       "    </tr>\n",
       "  </tbody>\n",
       "</table>\n",
       "</div>"
      ],
      "text/plain": [
       "                            Subject Matter  count of customer\n",
       "4                                Employees              34314\n",
       "12  Station /Bus Stop /Facility /Structure              15876\n",
       "15        Travel Disruption / Trip Problem              12704\n",
       "0                                    Buses               5795\n",
       "14                                  Trains               5613\n",
       "13       Telephone / Website / Mobile Apps               2258\n",
       "8            Policies, Rules & Regulations               2111\n",
       "11                Schedules / Reservations               1376\n",
       "7        MetroCard/Tickets/E-Zpass & Tolls               1346\n",
       "3                                 Customer                668\n",
       "6                 MTA Agency Cars / Trucks                101\n",
       "2          Construction / Capital Projects                 35\n",
       "9                           Public Hearing                 17\n",
       "10                 Reasonable Modification                  9\n",
       "5             Ferry Service - Hudson River                  7\n",
       "1                                Complaint                  1"
      ]
     },
     "execution_count": 36,
     "metadata": {},
     "output_type": "execute_result"
    }
   ],
   "source": [
    "subject_matter_complaints"
   ]
  },
  {
   "cell_type": "markdown",
   "id": "89e00b05-c9ba-4e44-9eaf-84cc8144ec97",
   "metadata": {},
   "source": [
    "# 6. Common Subject Details (Complaint)"
   ]
  },
  {
   "cell_type": "code",
   "execution_count": 37,
   "id": "a133ca35-6ae9-4425-bf12-6cfc49564c80",
   "metadata": {},
   "outputs": [],
   "source": [
    "Subject_Details_Complaint=df[df['Commendation or Complaint']=='Complaint'].groupby('Subject Detail').size().reset_index(name='subject_details').sort_values(by='subject_details',ascending=False)"
   ]
  },
  {
   "cell_type": "code",
   "execution_count": 38,
   "id": "d36e9611-301c-43d0-9b6b-7a38234455ee",
   "metadata": {},
   "outputs": [
    {
     "data": {
      "text/html": [
       "<div>\n",
       "<style scoped>\n",
       "    .dataframe tbody tr th:only-of-type {\n",
       "        vertical-align: middle;\n",
       "    }\n",
       "\n",
       "    .dataframe tbody tr th {\n",
       "        vertical-align: top;\n",
       "    }\n",
       "\n",
       "    .dataframe thead th {\n",
       "        text-align: right;\n",
       "    }\n",
       "</style>\n",
       "<table border=\"1\" class=\"dataframe\">\n",
       "  <thead>\n",
       "    <tr style=\"text-align: right;\">\n",
       "      <th></th>\n",
       "      <th>Subject Detail</th>\n",
       "      <th>subject_details</th>\n",
       "    </tr>\n",
       "  </thead>\n",
       "  <tbody>\n",
       "    <tr>\n",
       "      <th>17</th>\n",
       "      <td>Bus Operator / Driver</td>\n",
       "      <td>26957</td>\n",
       "    </tr>\n",
       "    <tr>\n",
       "      <th>15</th>\n",
       "      <td>Bus / Vehicle - General</td>\n",
       "      <td>12335</td>\n",
       "    </tr>\n",
       "    <tr>\n",
       "      <th>93</th>\n",
       "      <td>Rail / Subway Cars</td>\n",
       "      <td>4015</td>\n",
       "    </tr>\n",
       "    <tr>\n",
       "      <th>112</th>\n",
       "      <td>Station - General</td>\n",
       "      <td>2994</td>\n",
       "    </tr>\n",
       "    <tr>\n",
       "      <th>125</th>\n",
       "      <td>Train - General</td>\n",
       "      <td>2974</td>\n",
       "    </tr>\n",
       "    <tr>\n",
       "      <th>...</th>\n",
       "      <td>...</td>\n",
       "      <td>...</td>\n",
       "    </tr>\n",
       "    <tr>\n",
       "      <th>40</th>\n",
       "      <td>Equal Employment Opportunity</td>\n",
       "      <td>1</td>\n",
       "    </tr>\n",
       "    <tr>\n",
       "      <th>24</th>\n",
       "      <td>Call Ahead Service</td>\n",
       "      <td>1</td>\n",
       "    </tr>\n",
       "    <tr>\n",
       "      <th>12</th>\n",
       "      <td>Bikes-Per-Car Restrictions</td>\n",
       "      <td>1</td>\n",
       "    </tr>\n",
       "    <tr>\n",
       "      <th>33</th>\n",
       "      <td>Deferred Toll Payment</td>\n",
       "      <td>1</td>\n",
       "    </tr>\n",
       "    <tr>\n",
       "      <th>96</th>\n",
       "      <td>Resident Discount - Other</td>\n",
       "      <td>1</td>\n",
       "    </tr>\n",
       "  </tbody>\n",
       "</table>\n",
       "<p>139 rows × 2 columns</p>\n",
       "</div>"
      ],
      "text/plain": [
       "                   Subject Detail  subject_details\n",
       "17          Bus Operator / Driver            26957\n",
       "15        Bus / Vehicle - General            12335\n",
       "93             Rail / Subway Cars             4015\n",
       "112             Station - General             2994\n",
       "125               Train - General             2974\n",
       "..                            ...              ...\n",
       "40   Equal Employment Opportunity                1\n",
       "24             Call Ahead Service                1\n",
       "12     Bikes-Per-Car Restrictions                1\n",
       "33          Deferred Toll Payment                1\n",
       "96      Resident Discount - Other                1\n",
       "\n",
       "[139 rows x 2 columns]"
      ]
     },
     "execution_count": 38,
     "metadata": {},
     "output_type": "execute_result"
    }
   ],
   "source": [
    "Subject_Details_Complaint"
   ]
  },
  {
   "cell_type": "markdown",
   "id": "064bea35-54d0-4bd9-b7f5-348ca95f0bb2",
   "metadata": {},
   "source": [
    "# 7. Common Issue Details (Complaint)"
   ]
  },
  {
   "cell_type": "code",
   "execution_count": 39,
   "id": "ffdfcfd6-8ebb-4f19-aef3-bcfe1883449a",
   "metadata": {},
   "outputs": [],
   "source": [
    "Issue_Details_Complaint=df[df['Commendation or Complaint']=='Complaint'].groupby('Issue Detail').size().reset_index(name='issue').sort_values(by='issue',ascending=False)"
   ]
  },
  {
   "cell_type": "code",
   "execution_count": 40,
   "id": "aa29f608-ed9e-41c2-817a-37ce51965467",
   "metadata": {},
   "outputs": [
    {
     "data": {
      "text/html": [
       "<div>\n",
       "<style scoped>\n",
       "    .dataframe tbody tr th:only-of-type {\n",
       "        vertical-align: middle;\n",
       "    }\n",
       "\n",
       "    .dataframe tbody tr th {\n",
       "        vertical-align: top;\n",
       "    }\n",
       "\n",
       "    .dataframe thead th {\n",
       "        text-align: right;\n",
       "    }\n",
       "</style>\n",
       "<table border=\"1\" class=\"dataframe\">\n",
       "  <thead>\n",
       "    <tr style=\"text-align: right;\">\n",
       "      <th></th>\n",
       "      <th>Issue Detail</th>\n",
       "      <th>issue</th>\n",
       "    </tr>\n",
       "  </thead>\n",
       "  <tbody>\n",
       "    <tr>\n",
       "      <th>217</th>\n",
       "      <td>unspecified</td>\n",
       "      <td>4963</td>\n",
       "    </tr>\n",
       "    <tr>\n",
       "      <th>142</th>\n",
       "      <td>Other</td>\n",
       "      <td>4372</td>\n",
       "    </tr>\n",
       "    <tr>\n",
       "      <th>162</th>\n",
       "      <td>Rude / Inappropriate Language</td>\n",
       "      <td>3689</td>\n",
       "    </tr>\n",
       "    <tr>\n",
       "      <th>89</th>\n",
       "      <td>Improper Function/Needs Repair/Damaged</td>\n",
       "      <td>3329</td>\n",
       "    </tr>\n",
       "    <tr>\n",
       "      <th>103</th>\n",
       "      <td>Late / Delay</td>\n",
       "      <td>3185</td>\n",
       "    </tr>\n",
       "    <tr>\n",
       "      <th>...</th>\n",
       "      <td>...</td>\n",
       "      <td>...</td>\n",
       "    </tr>\n",
       "    <tr>\n",
       "      <th>132</th>\n",
       "      <td>Not Seen/Not Available</td>\n",
       "      <td>1</td>\n",
       "    </tr>\n",
       "    <tr>\n",
       "      <th>177</th>\n",
       "      <td>Ticket / Permit Suspended</td>\n",
       "      <td>1</td>\n",
       "    </tr>\n",
       "    <tr>\n",
       "      <th>197</th>\n",
       "      <td>Trip Cancelled</td>\n",
       "      <td>1</td>\n",
       "    </tr>\n",
       "    <tr>\n",
       "      <th>200</th>\n",
       "      <td>User Friendly</td>\n",
       "      <td>1</td>\n",
       "    </tr>\n",
       "    <tr>\n",
       "      <th>216</th>\n",
       "      <td>other</td>\n",
       "      <td>1</td>\n",
       "    </tr>\n",
       "  </tbody>\n",
       "</table>\n",
       "<p>218 rows × 2 columns</p>\n",
       "</div>"
      ],
      "text/plain": [
       "                               Issue Detail  issue\n",
       "217                             unspecified   4963\n",
       "142                                   Other   4372\n",
       "162           Rude / Inappropriate Language   3689\n",
       "89   Improper Function/Needs Repair/Damaged   3329\n",
       "103                            Late / Delay   3185\n",
       "..                                      ...    ...\n",
       "132                  Not Seen/Not Available      1\n",
       "177               Ticket / Permit Suspended      1\n",
       "197                          Trip Cancelled      1\n",
       "200                           User Friendly      1\n",
       "216                                   other      1\n",
       "\n",
       "[218 rows x 2 columns]"
      ]
     },
     "execution_count": 40,
     "metadata": {},
     "output_type": "execute_result"
    }
   ],
   "source": [
    "Issue_Details_Complaint"
   ]
  },
  {
   "cell_type": "markdown",
   "id": "56ebcd00-1914-42f2-aa58-9c26334c64e3",
   "metadata": {},
   "source": [
    "# 8. Year-wise Trend of Customers"
   ]
  },
  {
   "cell_type": "code",
   "execution_count": 41,
   "id": "d0d75785-38aa-4933-9c54-636474f75dd3",
   "metadata": {},
   "outputs": [],
   "source": [
    "Year_wise_Trend=df.groupby('Year').size().reset_index(name='year').sort_values(by='year',ascending=False)"
   ]
  },
  {
   "cell_type": "code",
   "execution_count": 42,
   "id": "9dd55915-a380-4bf6-bfdc-83bcf2471cc4",
   "metadata": {},
   "outputs": [
    {
     "data": {
      "text/html": [
       "<div>\n",
       "<style scoped>\n",
       "    .dataframe tbody tr th:only-of-type {\n",
       "        vertical-align: middle;\n",
       "    }\n",
       "\n",
       "    .dataframe tbody tr th {\n",
       "        vertical-align: top;\n",
       "    }\n",
       "\n",
       "    .dataframe thead th {\n",
       "        text-align: right;\n",
       "    }\n",
       "</style>\n",
       "<table border=\"1\" class=\"dataframe\">\n",
       "  <thead>\n",
       "    <tr style=\"text-align: right;\">\n",
       "      <th></th>\n",
       "      <th>Year</th>\n",
       "      <th>year</th>\n",
       "    </tr>\n",
       "  </thead>\n",
       "  <tbody>\n",
       "    <tr>\n",
       "      <th>1</th>\n",
       "      <td>2015</td>\n",
       "      <td>35455</td>\n",
       "    </tr>\n",
       "    <tr>\n",
       "      <th>2</th>\n",
       "      <td>2016</td>\n",
       "      <td>28302</td>\n",
       "    </tr>\n",
       "    <tr>\n",
       "      <th>0</th>\n",
       "      <td>2014</td>\n",
       "      <td>12956</td>\n",
       "    </tr>\n",
       "    <tr>\n",
       "      <th>3</th>\n",
       "      <td>2017</td>\n",
       "      <td>9502</td>\n",
       "    </tr>\n",
       "  </tbody>\n",
       "</table>\n",
       "</div>"
      ],
      "text/plain": [
       "   Year   year\n",
       "1  2015  35455\n",
       "2  2016  28302\n",
       "0  2014  12956\n",
       "3  2017   9502"
      ]
     },
     "execution_count": 42,
     "metadata": {},
     "output_type": "execute_result"
    }
   ],
   "source": [
    "Year_wise_Trend"
   ]
  },
  {
   "cell_type": "markdown",
   "id": "215a956a-22d6-4a7d-bd04-081d94dae479",
   "metadata": {},
   "source": [
    "# 9. Quarter-wise Trend of Churned Customers (Complaint)"
   ]
  },
  {
   "cell_type": "code",
   "execution_count": 47,
   "id": "34bb50e9-5731-42bc-b8d3-603c820dbe67",
   "metadata": {},
   "outputs": [],
   "source": [
    "quarter_wise_churned_complaint=df[df['Commendation or Complaint']=='Complaint'].groupby('Quarter').size().reset_index(name='quartely_complaint').sort_values(by='quartely_complaint',ascending=False)"
   ]
  },
  {
   "cell_type": "code",
   "execution_count": 48,
   "id": "265441fe-037a-4e68-a21c-ca93c428c1a6",
   "metadata": {},
   "outputs": [
    {
     "data": {
      "text/html": [
       "<div>\n",
       "<style scoped>\n",
       "    .dataframe tbody tr th:only-of-type {\n",
       "        vertical-align: middle;\n",
       "    }\n",
       "\n",
       "    .dataframe tbody tr th {\n",
       "        vertical-align: top;\n",
       "    }\n",
       "\n",
       "    .dataframe thead th {\n",
       "        text-align: right;\n",
       "    }\n",
       "</style>\n",
       "<table border=\"1\" class=\"dataframe\">\n",
       "  <thead>\n",
       "    <tr style=\"text-align: right;\">\n",
       "      <th></th>\n",
       "      <th>Quarter</th>\n",
       "      <th>quartely_complaint</th>\n",
       "    </tr>\n",
       "  </thead>\n",
       "  <tbody>\n",
       "    <tr>\n",
       "      <th>2</th>\n",
       "      <td>3</td>\n",
       "      <td>23814</td>\n",
       "    </tr>\n",
       "    <tr>\n",
       "      <th>3</th>\n",
       "      <td>4</td>\n",
       "      <td>23705</td>\n",
       "    </tr>\n",
       "    <tr>\n",
       "      <th>1</th>\n",
       "      <td>2</td>\n",
       "      <td>18176</td>\n",
       "    </tr>\n",
       "    <tr>\n",
       "      <th>0</th>\n",
       "      <td>1</td>\n",
       "      <td>16536</td>\n",
       "    </tr>\n",
       "  </tbody>\n",
       "</table>\n",
       "</div>"
      ],
      "text/plain": [
       "   Quarter  quartely_complaint\n",
       "2        3               23814\n",
       "3        4               23705\n",
       "1        2               18176\n",
       "0        1               16536"
      ]
     },
     "execution_count": 48,
     "metadata": {},
     "output_type": "execute_result"
    }
   ],
   "source": [
    "quarter_wise_churned_complaint"
   ]
  },
  {
   "cell_type": "code",
   "execution_count": 50,
   "id": "cb6f0bd6-1e91-4969-aac0-47ef4978ac83",
   "metadata": {},
   "outputs": [],
   "source": [
    "df.to_csv('C:/Users/omsin/OneDrive/Documents/df.csv', index=False)\n"
   ]
  },
  {
   "cell_type": "code",
   "execution_count": null,
   "id": "e6b9eae6-50b1-4446-b632-66c9654b11d1",
   "metadata": {},
   "outputs": [],
   "source": []
  },
  {
   "cell_type": "code",
   "execution_count": null,
   "id": "f86caad2-7e59-49d8-bb8a-c2043acef7b1",
   "metadata": {},
   "outputs": [],
   "source": []
  },
  {
   "cell_type": "code",
   "execution_count": null,
   "id": "aebe1de1-6d64-40f3-9db9-0c34bde01015",
   "metadata": {},
   "outputs": [],
   "source": []
  },
  {
   "cell_type": "code",
   "execution_count": null,
   "id": "74af1736-f9dd-464b-9f54-af441ed55280",
   "metadata": {},
   "outputs": [],
   "source": []
  },
  {
   "cell_type": "code",
   "execution_count": null,
   "id": "5773d9ec-9639-4b13-a340-2abdcb363557",
   "metadata": {},
   "outputs": [],
   "source": []
  },
  {
   "cell_type": "code",
   "execution_count": null,
   "id": "691f4e47-ad5b-4896-b06f-10a1dfeee419",
   "metadata": {},
   "outputs": [],
   "source": []
  },
  {
   "cell_type": "code",
   "execution_count": null,
   "id": "125c88fc-9bdd-4a63-9dfc-fc382058b22f",
   "metadata": {},
   "outputs": [],
   "source": []
  },
  {
   "cell_type": "code",
   "execution_count": null,
   "id": "020a10ea-9743-4cc3-9d5f-2e9f0c262d04",
   "metadata": {},
   "outputs": [],
   "source": []
  },
  {
   "cell_type": "code",
   "execution_count": null,
   "id": "838f20e7-5566-44a0-8993-b2e4083b4837",
   "metadata": {},
   "outputs": [],
   "source": []
  },
  {
   "cell_type": "code",
   "execution_count": null,
   "id": "a3680d8c-32e5-4caa-ba25-72105ead8bfd",
   "metadata": {},
   "outputs": [],
   "source": []
  },
  {
   "cell_type": "code",
   "execution_count": null,
   "id": "f134674e-396d-4555-b368-eef28204af8a",
   "metadata": {},
   "outputs": [],
   "source": []
  },
  {
   "cell_type": "code",
   "execution_count": null,
   "id": "bfea0f64-d009-42f6-a66d-e51ddcd16473",
   "metadata": {},
   "outputs": [],
   "source": []
  },
  {
   "cell_type": "code",
   "execution_count": null,
   "id": "202144bf-8bcb-4d72-831a-2180ab2c0478",
   "metadata": {},
   "outputs": [],
   "source": []
  },
  {
   "cell_type": "code",
   "execution_count": null,
   "id": "596b1fa7-6229-483a-b4e3-1a7b6d8d0b1f",
   "metadata": {},
   "outputs": [],
   "source": []
  },
  {
   "cell_type": "code",
   "execution_count": null,
   "id": "03f54dd7-3b16-4b0a-83fb-f89c074b9dd3",
   "metadata": {},
   "outputs": [],
   "source": []
  }
 ],
 "metadata": {
  "kernelspec": {
   "display_name": "Python 3 (ipykernel)",
   "language": "python",
   "name": "python3"
  },
  "language_info": {
   "codemirror_mode": {
    "name": "ipython",
    "version": 3
   },
   "file_extension": ".py",
   "mimetype": "text/x-python",
   "name": "python",
   "nbconvert_exporter": "python",
   "pygments_lexer": "ipython3",
   "version": "3.12.4"
  }
 },
 "nbformat": 4,
 "nbformat_minor": 5
}
